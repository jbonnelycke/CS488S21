{
  "nbformat": 4,
  "nbformat_minor": 0,
  "metadata": {
    "colab": {
      "name": "CS488_JB_week3.ipynb",
      "provenance": [],
      "collapsed_sections": [
        "GhmN7LSsj5oE",
        "8QBejY-8j5oF",
        "JvLju325j5oI",
        "UESrbKFbj5oK",
        "rjP8Q2bjj5oN",
        "OCtr8yXCj5oP",
        "r07mN9Kwj5oS",
        "CbHVYiTzj5oS",
        "jvZt3Vu0j5oT",
        "Vw9kYfGaj5oW",
        "hxyNYDfRj5oX",
        "5koLxNtzoysp",
        "ezkA6RabpFkc",
        "ti7qxChirTh_",
        "FuoSEbOMj5oX"
      ],
      "include_colab_link": true
    },
    "kernelspec": {
      "name": "python3",
      "display_name": "Python 3"
    }
  },
  "cells": [
    {
      "cell_type": "markdown",
      "metadata": {
        "id": "view-in-github",
        "colab_type": "text"
      },
      "source": [
        "<a href=\"https://colab.research.google.com/github/jbonnelycke/CS488S21/blob/main/CS488_JB_week3.ipynb\" target=\"_parent\"><img src=\"https://colab.research.google.com/assets/colab-badge.svg\" alt=\"Open In Colab\"/></a>"
      ]
    },
    {
      "cell_type": "markdown",
      "metadata": {
        "id": "YhrD_hhFj5n2"
      },
      "source": [
        "## Computer Networks and the Internet, Pace University, Spring 2021\n",
        "## Last update: 2.9.2021"
      ]
    },
    {
      "cell_type": "markdown",
      "metadata": {
        "id": "NyFWzOjoj5n9"
      },
      "source": [
        "## Last class:\n",
        "\n",
        "1. Programming language -> Interpreter -> Machine language\n",
        "1. IDLE (editor + interpreter), we will stick to jupyter notesbook for now\n",
        "1. Interactive mode vs. Script mode\n",
        "1. Python3 instead of Python2\n",
        "1. No type in declaration, type conversion on the fly\n",
        "1.` import sys `for command line arguments\n"
      ]
    },
    {
      "cell_type": "markdown",
      "metadata": {
        "id": "fTCRB_Ruj5n-"
      },
      "source": [
        "* print function - prints a textual representation to the console"
      ]
    },
    {
      "cell_type": "code",
      "metadata": {
        "id": "Y718XiZrj5n_",
        "colab": {
          "base_uri": "https://localhost:8080/"
        },
        "outputId": "98731335-0844-4e4b-ef02-cc6070df269b"
      },
      "source": [
        "print(\"hello world\") "
      ],
      "execution_count": null,
      "outputs": [
        {
          "output_type": "stream",
          "text": [
            "hello world\n"
          ],
          "name": "stdout"
        }
      ]
    },
    {
      "cell_type": "code",
      "metadata": {
        "id": "lXFoWaAVj5oA",
        "colab": {
          "base_uri": "https://localhost:8080/"
        },
        "outputId": "298f1947-6c87-471e-c458-e105088553e2"
      },
      "source": [
        "print(\"hello\", \"world\", \"!\");"
      ],
      "execution_count": null,
      "outputs": [
        {
          "output_type": "stream",
          "text": [
            "hello world !\n"
          ],
          "name": "stdout"
        }
      ]
    },
    {
      "cell_type": "markdown",
      "metadata": {
        "id": "_m3_n3RPn9cf"
      },
      "source": [
        "* How about reading input?"
      ]
    },
    {
      "cell_type": "code",
      "metadata": {
        "colab": {
          "base_uri": "https://localhost:8080/",
          "height": 211
        },
        "id": "W76dyYUXoD9F",
        "outputId": "fb693422-0709-42a6-c0aa-a68dc52afb92"
      },
      "source": [
        "m = int(input(\"please enter a number \")) # input interprets it as a string, so need type conversion\r\n",
        "m # thus, if you try to input 'a' here, it will be an invalid literal for base 10 integer"
      ],
      "execution_count": null,
      "outputs": [
        {
          "output_type": "stream",
          "text": [
            "please enter a number a\n"
          ],
          "name": "stdout"
        },
        {
          "output_type": "error",
          "ename": "ValueError",
          "evalue": "ignored",
          "traceback": [
            "\u001b[0;31m---------------------------------------------------------------------------\u001b[0m",
            "\u001b[0;31mValueError\u001b[0m                                Traceback (most recent call last)",
            "\u001b[0;32m<ipython-input-7-7a8e2a14d3b6>\u001b[0m in \u001b[0;36m<module>\u001b[0;34m()\u001b[0m\n\u001b[0;32m----> 1\u001b[0;31m \u001b[0mm\u001b[0m \u001b[0;34m=\u001b[0m \u001b[0mint\u001b[0m\u001b[0;34m(\u001b[0m\u001b[0minput\u001b[0m\u001b[0;34m(\u001b[0m\u001b[0;34m\"please enter a number \"\u001b[0m\u001b[0;34m)\u001b[0m\u001b[0;34m)\u001b[0m \u001b[0;31m# input interprets it as a string, so need type conversion\u001b[0m\u001b[0;34m\u001b[0m\u001b[0;34m\u001b[0m\u001b[0m\n\u001b[0m\u001b[1;32m      2\u001b[0m \u001b[0mm\u001b[0m\u001b[0;34m\u001b[0m\u001b[0;34m\u001b[0m\u001b[0m\n",
            "\u001b[0;31mValueError\u001b[0m: invalid literal for int() with base 10: 'a'"
          ]
        }
      ]
    },
    {
      "cell_type": "markdown",
      "metadata": {
        "id": "mfcnc7TOj5oA"
      },
      "source": [
        "###Variables, types"
      ]
    },
    {
      "cell_type": "markdown",
      "metadata": {
        "id": "chsYinDbj5oB"
      },
      "source": [
        "* int - integers: ..., -3, -2, -1, 0, 1, 2, 3, ..."
      ]
    },
    {
      "cell_type": "code",
      "metadata": {
        "id": "6wH7uUSEj5oB",
        "colab": {
          "base_uri": "https://localhost:8080/"
        },
        "outputId": "0a0e95b0-949e-469b-d204-9aa23fbb0e5c"
      },
      "source": [
        "x=3\r\n",
        "y=4 \r\n",
        "print(x, type(x))\r\n",
        "x=3.3 #for the same name x, the type could be a moving target, so python provides function type()\r\n",
        "print(x, type(x))"
      ],
      "execution_count": null,
      "outputs": [
        {
          "output_type": "stream",
          "text": [
            "3 <class 'int'>\n",
            "3.3 <class 'float'>\n"
          ],
          "name": "stdout"
        }
      ]
    },
    {
      "cell_type": "code",
      "metadata": {
        "id": "x4cm48ZJj5oC"
      },
      "source": [
        ""
      ],
      "execution_count": null,
      "outputs": []
    },
    {
      "cell_type": "markdown",
      "metadata": {
        "id": "P2P74ebmj5oC"
      },
      "source": [
        "* float - floating point numbers, decimal point fractions: -3.2, 1.5, 1e-8, 3.2e5"
      ]
    },
    {
      "cell_type": "code",
      "metadata": {
        "id": "zjZnkpNlj5oD",
        "colab": {
          "base_uri": "https://localhost:8080/"
        },
        "outputId": "90e3de8b-363c-4ffc-acf4-af751dadbcc2"
      },
      "source": [
        "x=3.2e5\r\n",
        "print(x,type(x))"
      ],
      "execution_count": null,
      "outputs": [
        {
          "output_type": "stream",
          "text": [
            "320000.0 <class 'float'>\n"
          ],
          "name": "stdout"
        }
      ]
    },
    {
      "cell_type": "markdown",
      "metadata": {
        "id": "nivpFqmej5oD"
      },
      "source": [
        "* str - character strings, text: \"intro2CS\", 'python'"
      ]
    },
    {
      "cell_type": "code",
      "metadata": {
        "id": "zVRPr6Vej5oD",
        "colab": {
          "base_uri": "https://localhost:8080/",
          "height": 36
        },
        "outputId": "ee8973d3-3581-48db-bd84-90e71d6c2728"
      },
      "source": [
        "classx=\"intro2cs\"\r\n",
        "language='python'\r\n",
        "classx\r\n",
        "language"
      ],
      "execution_count": null,
      "outputs": [
        {
          "output_type": "execute_result",
          "data": {
            "application/vnd.google.colaboratory.intrinsic+json": {
              "type": "string"
            },
            "text/plain": [
              "'python'"
            ]
          },
          "metadata": {
            "tags": []
          },
          "execution_count": 10
        }
      ]
    },
    {
      "cell_type": "code",
      "metadata": {
        "id": "J-9wvi4Lj5oD"
      },
      "source": [
        ""
      ],
      "execution_count": null,
      "outputs": []
    },
    {
      "cell_type": "markdown",
      "metadata": {
        "id": "t_TnZB1Sj5oE"
      },
      "source": [
        "* bool - boolean values: True and False"
      ]
    },
    {
      "cell_type": "code",
      "metadata": {
        "id": "Nbm0J5gyj5oE",
        "colab": {
          "base_uri": "https://localhost:8080/"
        },
        "outputId": "4331dca6-8a1a-4c25-c691-a9ea54c3a93c"
      },
      "source": [
        "i_hate_python=False\r\n",
        "i_love_c=True # need cap\r\n",
        "print(i_hate_python, type(i_hate_python))\r\n",
        "print(i_love_c, type(i_love_c))"
      ],
      "execution_count": null,
      "outputs": [
        {
          "output_type": "stream",
          "text": [
            "False <class 'bool'>\n",
            "True <class 'bool'>\n"
          ],
          "name": "stdout"
        }
      ]
    },
    {
      "cell_type": "code",
      "metadata": {
        "colab": {
          "base_uri": "https://localhost:8080/"
        },
        "id": "CRWMmV5JHr-v",
        "outputId": "cf74dca6-f0e9-445a-fe48-c743fb1f01ae"
      },
      "source": [
        "#remember the negative cases\r\n",
        "print(bool(None)) # false; none is the same as null\r\n",
        "print(bool(0)) # false\r\n",
        "str=\"abc\"\r\n",
        "print(bool(str)) # true; a string in c is a pointer to address, same in python. so the content being present is true\r\n",
        "str=\"\"\r\n",
        "print(bool(str)) # false; an empty string is false which is just a weird exception to the norm"
      ],
      "execution_count": null,
      "outputs": [
        {
          "output_type": "stream",
          "text": [
            "False\n",
            "False\n",
            "True\n"
          ],
          "name": "stdout"
        }
      ]
    },
    {
      "cell_type": "markdown",
      "metadata": {
        "id": "GhmN7LSsj5oE"
      },
      "source": [
        "## Operators"
      ]
    },
    {
      "cell_type": "markdown",
      "metadata": {
        "id": "8QBejY-8j5oF"
      },
      "source": [
        "### Mathematical operators"
      ]
    },
    {
      "cell_type": "markdown",
      "metadata": {
        "id": "qt608Sn-j5oF"
      },
      "source": [
        "Addition:"
      ]
    },
    {
      "cell_type": "code",
      "metadata": {
        "id": "bzDNbaC1j5oF",
        "colab": {
          "base_uri": "https://localhost:8080/"
        },
        "outputId": "e8ad2bf9-10d3-44b0-d954-6ba780ed1034"
      },
      "source": [
        "4+5"
      ],
      "execution_count": null,
      "outputs": [
        {
          "output_type": "execute_result",
          "data": {
            "text/plain": [
              "9"
            ]
          },
          "metadata": {
            "tags": []
          },
          "execution_count": 13
        }
      ]
    },
    {
      "cell_type": "code",
      "metadata": {
        "id": "JE8MPU3ij5oF",
        "colab": {
          "base_uri": "https://localhost:8080/"
        },
        "outputId": "486003ca-1eda-41a4-ffa9-ed3af362f016"
      },
      "source": [
        "x=3\r\n",
        "x+5"
      ],
      "execution_count": null,
      "outputs": [
        {
          "output_type": "execute_result",
          "data": {
            "text/plain": [
              "8"
            ]
          },
          "metadata": {
            "tags": []
          },
          "execution_count": 16
        }
      ]
    },
    {
      "cell_type": "code",
      "metadata": {
        "id": "l5hrIKHCj5oG",
        "colab": {
          "base_uri": "https://localhost:8080/"
        },
        "outputId": "c0be1c31-4e0d-4fe7-cf20-91f56ddd1052"
      },
      "source": [
        " 3.0+4.00"
      ],
      "execution_count": null,
      "outputs": [
        {
          "output_type": "execute_result",
          "data": {
            "text/plain": [
              "7.0"
            ]
          },
          "metadata": {
            "tags": []
          },
          "execution_count": 15
        }
      ]
    },
    {
      "cell_type": "markdown",
      "metadata": {
        "id": "U_PHeGHZj5oG"
      },
      "source": [
        "Subtraction:"
      ]
    },
    {
      "cell_type": "code",
      "metadata": {
        "id": "dI8fDROzj5oG",
        "colab": {
          "base_uri": "https://localhost:8080/"
        },
        "outputId": "d5c56a9c-19d1-4280-8b9b-9e2e2b68d077"
      },
      "source": [
        "x-1 # it prints 2 because we assigned x = 3 above"
      ],
      "execution_count": null,
      "outputs": [
        {
          "output_type": "execute_result",
          "data": {
            "text/plain": [
              "2"
            ]
          },
          "metadata": {
            "tags": []
          },
          "execution_count": 17
        }
      ]
    },
    {
      "cell_type": "markdown",
      "metadata": {
        "id": "STulJz9xj5oG"
      },
      "source": [
        "Multiplication:"
      ]
    },
    {
      "cell_type": "code",
      "metadata": {
        "id": "6IipYZkij5oH",
        "colab": {
          "base_uri": "https://localhost:8080/"
        },
        "outputId": "8d650e8d-5675-4ef4-91a2-836a881ca868"
      },
      "source": [
        "x*3"
      ],
      "execution_count": null,
      "outputs": [
        {
          "output_type": "execute_result",
          "data": {
            "text/plain": [
              "9"
            ]
          },
          "metadata": {
            "tags": []
          },
          "execution_count": 18
        }
      ]
    },
    {
      "cell_type": "markdown",
      "metadata": {
        "id": "tRI2PyZOj5oH"
      },
      "source": [
        "Division - float and integral with / and //:"
      ]
    },
    {
      "cell_type": "code",
      "metadata": {
        "id": "n2kjIwFej5oH",
        "colab": {
          "base_uri": "https://localhost:8080/"
        },
        "outputId": "6c5d3b29-8eb2-422b-a760-9ae377906c4a"
      },
      "source": [
        "x/2\r\n",
        "x//2"
      ],
      "execution_count": null,
      "outputs": [
        {
          "output_type": "execute_result",
          "data": {
            "text/plain": [
              "1"
            ]
          },
          "metadata": {
            "tags": []
          },
          "execution_count": 20
        }
      ]
    },
    {
      "cell_type": "markdown",
      "metadata": {
        "id": "uCXN6uKQj5oH"
      },
      "source": [
        "Power:"
      ]
    },
    {
      "cell_type": "code",
      "metadata": {
        "id": "8XA4n2afj5oH"
      },
      "source": [
        "2**4 # python makes your life easier, so lots of building block math functions "
      ],
      "execution_count": null,
      "outputs": []
    },
    {
      "cell_type": "markdown",
      "metadata": {
        "id": "NMAttXt2j5oI"
      },
      "source": [
        "Modolu:"
      ]
    },
    {
      "cell_type": "code",
      "metadata": {
        "id": "F1VGV5Jgj5oI",
        "colab": {
          "base_uri": "https://localhost:8080/"
        },
        "outputId": "044b02b1-ed9d-4ed2-fddf-43f0359ce111"
      },
      "source": [
        "15%6"
      ],
      "execution_count": null,
      "outputs": [
        {
          "output_type": "execute_result",
          "data": {
            "text/plain": [
              "3"
            ]
          },
          "metadata": {
            "tags": []
          },
          "execution_count": 21
        }
      ]
    },
    {
      "cell_type": "markdown",
      "metadata": {
        "id": "JvLju325j5oI"
      },
      "source": [
        "### String operators"
      ]
    },
    {
      "cell_type": "markdown",
      "metadata": {
        "id": "422YY4eHj5oI"
      },
      "source": [
        "String concatenation using +:"
      ]
    },
    {
      "cell_type": "code",
      "metadata": {
        "id": "8X28u9Goj5oJ",
        "colab": {
          "base_uri": "https://localhost:8080/"
        },
        "outputId": "bd5a4533-a7a0-4f81-9a98-cdee0e7098b7"
      },
      "source": [
        "y=\"hello\"+\" world \"\r\n",
        "print(y)"
      ],
      "execution_count": null,
      "outputs": [
        {
          "output_type": "stream",
          "text": [
            "hello world \n"
          ],
          "name": "stdout"
        }
      ]
    },
    {
      "cell_type": "markdown",
      "metadata": {
        "id": "PTo4CnOFj5oJ"
      },
      "source": [
        "String duplication using *:"
      ]
    },
    {
      "cell_type": "code",
      "metadata": {
        "id": "Zu62mwj4j5oJ",
        "colab": {
          "base_uri": "https://localhost:8080/",
          "height": 36
        },
        "outputId": "dceb1d44-29f4-46c0-fa47-8c1727d0bef1"
      },
      "source": [
        "y*3"
      ],
      "execution_count": null,
      "outputs": [
        {
          "output_type": "execute_result",
          "data": {
            "application/vnd.google.colaboratory.intrinsic+json": {
              "type": "string"
            },
            "text/plain": [
              "'hello world hello world hello world '"
            ]
          },
          "metadata": {
            "tags": []
          },
          "execution_count": 28
        }
      ]
    },
    {
      "cell_type": "markdown",
      "metadata": {
        "id": "ZLW-b1Vkj5oJ"
      },
      "source": [
        "Strings vs. numbers:"
      ]
    },
    {
      "cell_type": "code",
      "metadata": {
        "id": "A2YJvIp5j5oJ"
      },
      "source": [
        "\"bye\"+2"
      ],
      "execution_count": null,
      "outputs": []
    },
    {
      "cell_type": "code",
      "metadata": {
        "id": "uBh9AUBaj5oK"
      },
      "source": [
        "3+2 # addition"
      ],
      "execution_count": null,
      "outputs": []
    },
    {
      "cell_type": "code",
      "metadata": {
        "id": "h4Jdy3SIj5oK"
      },
      "source": [
        "\"a\"+\"b\" # concatenation"
      ],
      "execution_count": null,
      "outputs": []
    },
    {
      "cell_type": "code",
      "metadata": {
        "id": "_B6_98s5j5oK"
      },
      "source": [
        ""
      ],
      "execution_count": null,
      "outputs": []
    },
    {
      "cell_type": "markdown",
      "metadata": {
        "id": "UESrbKFbj5oK"
      },
      "source": [
        "### Comparisons"
      ]
    },
    {
      "cell_type": "code",
      "metadata": {
        "id": "RCIYPLjbj5oL",
        "colab": {
          "base_uri": "https://localhost:8080/"
        },
        "outputId": "d8a8d08d-45d6-4dae-ec04-08bb9124961d"
      },
      "source": [
        "5==4"
      ],
      "execution_count": null,
      "outputs": [
        {
          "output_type": "execute_result",
          "data": {
            "text/plain": [
              "False"
            ]
          },
          "metadata": {
            "tags": []
          },
          "execution_count": 29
        }
      ]
    },
    {
      "cell_type": "code",
      "metadata": {
        "id": "13DdkRIqj5oL"
      },
      "source": [
        "3==3.0"
      ],
      "execution_count": null,
      "outputs": []
    },
    {
      "cell_type": "code",
      "metadata": {
        "id": "djXSCW8jj5oL",
        "colab": {
          "base_uri": "https://localhost:8080/"
        },
        "outputId": "ac1075ec-96f2-4139-da69-25eeb8b2ec2f"
      },
      "source": [
        "5==\"5\""
      ],
      "execution_count": null,
      "outputs": [
        {
          "output_type": "execute_result",
          "data": {
            "text/plain": [
              "False"
            ]
          },
          "metadata": {
            "tags": []
          },
          "execution_count": 30
        }
      ]
    },
    {
      "cell_type": "code",
      "metadata": {
        "id": "0o6s93_Gj5oL",
        "colab": {
          "base_uri": "https://localhost:8080/"
        },
        "outputId": "506d1f03-84bb-4247-99dd-15f84152f59b"
      },
      "source": [
        "\"abc\" == 'abc' # compares the contents, unlike c and java which compare address"
      ],
      "execution_count": null,
      "outputs": [
        {
          "output_type": "execute_result",
          "data": {
            "text/plain": [
              "True"
            ]
          },
          "metadata": {
            "tags": []
          },
          "execution_count": 31
        }
      ]
    },
    {
      "cell_type": "code",
      "metadata": {
        "id": "-F6rhr4yj5oL"
      },
      "source": [
        ""
      ],
      "execution_count": null,
      "outputs": []
    },
    {
      "cell_type": "code",
      "metadata": {
        "id": "hh0K_u6Pj5oM"
      },
      "source": [
        ""
      ],
      "execution_count": null,
      "outputs": []
    },
    {
      "cell_type": "code",
      "metadata": {
        "id": "PMmDD0nrj5oM"
      },
      "source": [
        ""
      ],
      "execution_count": null,
      "outputs": []
    },
    {
      "cell_type": "code",
      "metadata": {
        "id": "Ho0Zhdigj5oM"
      },
      "source": [
        ""
      ],
      "execution_count": null,
      "outputs": []
    },
    {
      "cell_type": "code",
      "metadata": {
        "id": "Ga7woZufj5oM"
      },
      "source": [
        ""
      ],
      "execution_count": null,
      "outputs": []
    },
    {
      "cell_type": "code",
      "metadata": {
        "id": "oaPNm6Kpj5oN"
      },
      "source": [
        ""
      ],
      "execution_count": null,
      "outputs": []
    },
    {
      "cell_type": "code",
      "metadata": {
        "id": "vqRqdzuFj5oN"
      },
      "source": [
        ""
      ],
      "execution_count": null,
      "outputs": []
    },
    {
      "cell_type": "code",
      "metadata": {
        "id": "aBYyJZodj5oN"
      },
      "source": [
        ""
      ],
      "execution_count": null,
      "outputs": []
    },
    {
      "cell_type": "markdown",
      "metadata": {
        "id": "rjP8Q2bjj5oN"
      },
      "source": [
        "### Logical operators"
      ]
    },
    {
      "cell_type": "markdown",
      "metadata": {
        "id": "CaggIpaJj5oO"
      },
      "source": [
        "* not:"
      ]
    },
    {
      "cell_type": "code",
      "metadata": {
        "id": "XsXPgmVkj5oO",
        "colab": {
          "base_uri": "https://localhost:8080/"
        },
        "outputId": "e4517225-6441-4242-d02d-5b78f34ed3eb"
      },
      "source": [
        "# in java and c it's ! for logical not, in python it's 'not'\r\n",
        "not True\r\n",
        "x = True\r\n",
        "not x"
      ],
      "execution_count": null,
      "outputs": [
        {
          "output_type": "execute_result",
          "data": {
            "text/plain": [
              "False"
            ]
          },
          "metadata": {
            "tags": []
          },
          "execution_count": 33
        }
      ]
    },
    {
      "cell_type": "markdown",
      "metadata": {
        "id": "mxRaK9gaj5oO"
      },
      "source": [
        "* and:"
      ]
    },
    {
      "cell_type": "code",
      "metadata": {
        "id": "9DamX5X4j5oO",
        "colab": {
          "base_uri": "https://localhost:8080/"
        },
        "outputId": "dc303505-8f1a-409b-d71e-efdecaaab185"
      },
      "source": [
        "True and True"
      ],
      "execution_count": null,
      "outputs": [
        {
          "output_type": "execute_result",
          "data": {
            "text/plain": [
              "True"
            ]
          },
          "metadata": {
            "tags": []
          },
          "execution_count": 34
        }
      ]
    },
    {
      "cell_type": "code",
      "metadata": {
        "id": "kwtZ8PJgj5oO",
        "colab": {
          "base_uri": "https://localhost:8080/"
        },
        "outputId": "f5dd1010-e0ff-4ca2-f40a-95e106571291"
      },
      "source": [
        "True and False"
      ],
      "execution_count": null,
      "outputs": [
        {
          "output_type": "execute_result",
          "data": {
            "text/plain": [
              "False"
            ]
          },
          "metadata": {
            "tags": []
          },
          "execution_count": 35
        }
      ]
    },
    {
      "cell_type": "code",
      "metadata": {
        "id": "ix3rEcQrj5oP"
      },
      "source": [
        ""
      ],
      "execution_count": null,
      "outputs": []
    },
    {
      "cell_type": "markdown",
      "metadata": {
        "id": "lZz649J_j5oP"
      },
      "source": [
        "* or:"
      ]
    },
    {
      "cell_type": "code",
      "metadata": {
        "id": "Krr8rstmj5oP",
        "colab": {
          "base_uri": "https://localhost:8080/"
        },
        "outputId": "ae6410b2-110b-4ea6-ee57-f8633bccba44"
      },
      "source": [
        "y = False\r\n",
        "x or y"
      ],
      "execution_count": null,
      "outputs": [
        {
          "output_type": "execute_result",
          "data": {
            "text/plain": [
              "True"
            ]
          },
          "metadata": {
            "tags": []
          },
          "execution_count": 36
        }
      ]
    },
    {
      "cell_type": "code",
      "metadata": {
        "id": "jH-PqZ-Kj5oP"
      },
      "source": [
        ""
      ],
      "execution_count": null,
      "outputs": []
    },
    {
      "cell_type": "markdown",
      "metadata": {
        "id": "OCtr8yXCj5oP"
      },
      "source": [
        "## Conversions"
      ]
    },
    {
      "cell_type": "markdown",
      "metadata": {
        "id": "A_h3dBNrj5oQ"
      },
      "source": [
        "Use the functions `int()`, `float()`, and `str()` to convert between types (we will talk about *functions* next time):"
      ]
    },
    {
      "cell_type": "code",
      "metadata": {
        "id": "36JMH80Sj5oQ",
        "colab": {
          "base_uri": "https://localhost:8080/"
        },
        "outputId": "3c051e5b-bd85-49e1-d364-bae5592da39c"
      },
      "source": [
        "int(\"123\")"
      ],
      "execution_count": null,
      "outputs": [
        {
          "output_type": "execute_result",
          "data": {
            "text/plain": [
              "123"
            ]
          },
          "metadata": {
            "tags": []
          },
          "execution_count": 37
        }
      ]
    },
    {
      "cell_type": "code",
      "metadata": {
        "id": "SGeAAh0Hj5oQ",
        "colab": {
          "base_uri": "https://localhost:8080/"
        },
        "outputId": "bd8167c4-6ef6-4d42-b066-d901001e406a"
      },
      "source": [
        "float(\"1.23\")"
      ],
      "execution_count": null,
      "outputs": [
        {
          "output_type": "execute_result",
          "data": {
            "text/plain": [
              "1.23"
            ]
          },
          "metadata": {
            "tags": []
          },
          "execution_count": 38
        }
      ]
    },
    {
      "cell_type": "code",
      "metadata": {
        "id": "W7go6_CRj5oR",
        "colab": {
          "base_uri": "https://localhost:8080/",
          "height": 193
        },
        "outputId": "15237497-6918-4efa-b646-00dbbfb5ec94"
      },
      "source": [
        "x=MyClass(...)\r\n",
        "str(x)"
      ],
      "execution_count": null,
      "outputs": [
        {
          "output_type": "error",
          "ename": "NameError",
          "evalue": "ignored",
          "traceback": [
            "\u001b[0;31m---------------------------------------------------------------------------\u001b[0m",
            "\u001b[0;31mNameError\u001b[0m                                 Traceback (most recent call last)",
            "\u001b[0;32m<ipython-input-39-f2ee26d18682>\u001b[0m in \u001b[0;36m<module>\u001b[0;34m()\u001b[0m\n\u001b[0;32m----> 1\u001b[0;31m \u001b[0mx\u001b[0m\u001b[0;34m=\u001b[0m\u001b[0mMyClass\u001b[0m\u001b[0;34m(\u001b[0m\u001b[0;34m...\u001b[0m\u001b[0;34m)\u001b[0m\u001b[0;34m\u001b[0m\u001b[0;34m\u001b[0m\u001b[0m\n\u001b[0m\u001b[1;32m      2\u001b[0m \u001b[0mstr\u001b[0m\u001b[0;34m(\u001b[0m\u001b[0mx\u001b[0m\u001b[0;34m)\u001b[0m\u001b[0;34m\u001b[0m\u001b[0;34m\u001b[0m\u001b[0m\n",
            "\u001b[0;31mNameError\u001b[0m: name 'MyClass' is not defined"
          ]
        }
      ]
    },
    {
      "cell_type": "code",
      "metadata": {
        "id": "zL4PNo7Pj5oR"
      },
      "source": [
        ""
      ],
      "execution_count": null,
      "outputs": []
    },
    {
      "cell_type": "code",
      "metadata": {
        "id": "4VPmmkvfj5oS"
      },
      "source": [
        ""
      ],
      "execution_count": null,
      "outputs": []
    },
    {
      "cell_type": "markdown",
      "metadata": {
        "id": "r07mN9Kwj5oS"
      },
      "source": [
        "## Flow control"
      ]
    },
    {
      "cell_type": "markdown",
      "metadata": {
        "id": "CbHVYiTzj5oS"
      },
      "source": [
        "### Conditional statements"
      ]
    },
    {
      "cell_type": "markdown",
      "metadata": {
        "id": "M1-_2hJsj5oS"
      },
      "source": [
        "The `if` condition formula - replace conditions and statements with meaningful code:\n",
        "\n",
        "    if *condition*:\n",
        "        *statement*\n",
        "        *statement*\n",
        "        ...\n",
        "    elif *condition*: # 0 or more elif clauses\n",
        "        *statement*\n",
        "        *statement*\n",
        "        ...    \n",
        "    else:             # optional\n",
        "        *statement*\n",
        "        *statement*\n",
        "\n",
        "Example:"
      ]
    },
    {
      "cell_type": "code",
      "metadata": {
        "id": "1-aasBKHj5oS",
        "colab": {
          "base_uri": "https://localhost:8080/"
        },
        "outputId": "6796433b-4232-4c8b-d26b-8f4a36f26ceb"
      },
      "source": [
        "today = \"Tuesda\"\r\n",
        "i_feel_well = True\r\n",
        "show_is_on = True\r\n",
        "\r\n",
        "if today == \"Tuesday\":\r\n",
        "  if i_feel_well:\r\n",
        "    print(\"I am going to class 488\")\r\n",
        "  else:\r\n",
        "    print(\"I am not going to class because I am not feeling well\")\r\n",
        "elif show_is_on:\r\n",
        "  print(\"I am going to watch show\")\r\n",
        "else:\r\n",
        "  print(\"I am going to sleep\")\r\n",
        "print(\"I am going to play video games\")"
      ],
      "execution_count": null,
      "outputs": [
        {
          "output_type": "stream",
          "text": [
            "I am going to watch show\n",
            "I am going to play video games\n"
          ],
          "name": "stdout"
        }
      ]
    },
    {
      "cell_type": "markdown",
      "metadata": {
        "id": "jvZt3Vu0j5oT"
      },
      "source": [
        "### Loops"
      ]
    },
    {
      "cell_type": "markdown",
      "metadata": {
        "id": "jLWROAIcj5oT"
      },
      "source": [
        "* While:"
      ]
    },
    {
      "cell_type": "markdown",
      "metadata": {
        "id": "ZeQjCZgKj5oT"
      },
      "source": [
        "    while *condition*:\n",
        "        *statement*\n",
        "        *statement*\n",
        "\n",
        "Example - count how many times 0 appears in an integer number:"
      ]
    },
    {
      "cell_type": "code",
      "metadata": {
        "id": "wI2JDgwej5oU",
        "colab": {
          "base_uri": "https://localhost:8080/"
        },
        "outputId": "ca5d25f8-b0f7-49ab-9f85-7d39bcbdbe69"
      },
      "source": [
        "num=2**100\r\n",
        "num"
      ],
      "execution_count": null,
      "outputs": [
        {
          "output_type": "execute_result",
          "data": {
            "text/plain": [
              "1267650600228229401496703205376"
            ]
          },
          "metadata": {
            "tags": []
          },
          "execution_count": 45
        }
      ]
    },
    {
      "cell_type": "code",
      "metadata": {
        "id": "iNH8r8A5j5oU",
        "colab": {
          "base_uri": "https://localhost:8080/"
        },
        "outputId": "5dc95daa-65c7-4f8d-a2aa-7e2a8374e20c"
      },
      "source": [
        "n_zero=0\r\n",
        "\r\n",
        "while num > 0:\r\n",
        "  remainder=num%10\r\n",
        "  num=num//10\r\n",
        "  if remainder == 0:\r\n",
        "    n_zero=n_zero+1\r\n",
        "print(n_zero)"
      ],
      "execution_count": null,
      "outputs": [
        {
          "output_type": "stream",
          "text": [
            "6\n"
          ],
          "name": "stdout"
        }
      ]
    },
    {
      "cell_type": "markdown",
      "metadata": {
        "id": "JPvcCAAxj5oU"
      },
      "source": [
        "* For:"
      ]
    },
    {
      "cell_type": "markdown",
      "metadata": {
        "id": "n0q1EpLbj5oV"
      },
      "source": [
        "    for *variable* in *iterable*:\n",
        "        *statement*\n",
        "        *statement*\n",
        "\n",
        "Example - solve the same problem with a `str` type instead of `int`:"
      ]
    },
    {
      "cell_type": "code",
      "metadata": {
        "id": "Csg1OlCzj5oV",
        "colab": {
          "base_uri": "https://localhost:8080/"
        },
        "outputId": "f3191755-5712-4515-b48b-5ccf044f179c"
      },
      "source": [
        "num=2**100\r\n",
        "n_zero=0\r\n",
        "for digit in str(num):\r\n",
        "  print(digit, type(digit))\r\n",
        "  if digit == \"0\": # interchangeably use single and double quotes. everything is a string, no char's\r\n",
        "    n_zero=n_zero+1\r\n",
        "\r\n",
        "print(n_zero)"
      ],
      "execution_count": null,
      "outputs": [
        {
          "output_type": "stream",
          "text": [
            "1 <class 'str'>\n",
            "2 <class 'str'>\n",
            "6 <class 'str'>\n",
            "7 <class 'str'>\n",
            "6 <class 'str'>\n",
            "5 <class 'str'>\n",
            "0 <class 'str'>\n",
            "6 <class 'str'>\n",
            "0 <class 'str'>\n",
            "0 <class 'str'>\n",
            "2 <class 'str'>\n",
            "2 <class 'str'>\n",
            "8 <class 'str'>\n",
            "2 <class 'str'>\n",
            "2 <class 'str'>\n",
            "9 <class 'str'>\n",
            "4 <class 'str'>\n",
            "0 <class 'str'>\n",
            "1 <class 'str'>\n",
            "4 <class 'str'>\n",
            "9 <class 'str'>\n",
            "6 <class 'str'>\n",
            "7 <class 'str'>\n",
            "0 <class 'str'>\n",
            "3 <class 'str'>\n",
            "2 <class 'str'>\n",
            "0 <class 'str'>\n",
            "5 <class 'str'>\n",
            "3 <class 'str'>\n",
            "7 <class 'str'>\n",
            "6 <class 'str'>\n",
            "6\n"
          ],
          "name": "stdout"
        }
      ]
    },
    {
      "cell_type": "markdown",
      "metadata": {
        "id": "g9aDlLQ7j5oV"
      },
      "source": [
        "Builtin solution:"
      ]
    },
    {
      "cell_type": "code",
      "metadata": {
        "id": "v5g_eo2Ij5oV",
        "colab": {
          "base_uri": "https://localhost:8080/"
        },
        "outputId": "9d109a64-5a51-404b-e5af-d179d7ff6227"
      },
      "source": [
        "num=2**100\r\n",
        "n_zero=str.count(str(num), \"0\")\r\n",
        "\r\n",
        "print(n_zero)"
      ],
      "execution_count": null,
      "outputs": [
        {
          "output_type": "stream",
          "text": [
            "6\n"
          ],
          "name": "stdout"
        }
      ]
    },
    {
      "cell_type": "markdown",
      "metadata": {
        "id": "Vw9kYfGaj5oW"
      },
      "source": [
        "### Efficiency"
      ]
    },
    {
      "cell_type": "markdown",
      "metadata": {
        "id": "eRN-PSKjj5oW"
      },
      "source": [
        "We can measure which solution is faster:"
      ]
    },
    {
      "cell_type": "code",
      "metadata": {
        "id": "55jJ7PUdj5oW",
        "colab": {
          "base_uri": "https://localhost:8080/"
        },
        "outputId": "c20e9d0f-4f23-47b3-cf82-9bfd4284dee9"
      },
      "source": [
        "%%timeit\r\n",
        "num=2**100\r\n",
        "n_zero=0\r\n",
        "\r\n",
        "while num > 0:\r\n",
        "  remainder=num%10\r\n",
        "  num=num//10\r\n",
        "  if remainder == 0:\r\n",
        "    n_zero=n_zero+1"
      ],
      "execution_count": null,
      "outputs": [
        {
          "output_type": "stream",
          "text": [
            "100000 loops, best of 3: 4.41 µs per loop\n"
          ],
          "name": "stdout"
        }
      ]
    },
    {
      "cell_type": "code",
      "metadata": {
        "id": "cXpM_Xpbj5oW",
        "colab": {
          "base_uri": "https://localhost:8080/"
        },
        "outputId": "db465cd0-af83-4074-a857-99d88e1d3fa2"
      },
      "source": [
        "%%timeit\r\n",
        "num=2**100\r\n",
        "n_zero=0\r\n",
        "for digit in str(num):\r\n",
        "  if digit == \"0\": # interchangeably use single and double quotes. everything is a string, no char's\r\n",
        "    n_zero=n_zero+1"
      ],
      "execution_count": null,
      "outputs": [
        {
          "output_type": "stream",
          "text": [
            "The slowest run took 4.80 times longer than the fastest. This could mean that an intermediate result is being cached.\n",
            "1000000 loops, best of 3: 1.87 µs per loop\n"
          ],
          "name": "stdout"
        }
      ]
    },
    {
      "cell_type": "code",
      "metadata": {
        "id": "vxqtC0_5j5oW",
        "colab": {
          "base_uri": "https://localhost:8080/"
        },
        "outputId": "01191a2a-c774-493b-8128-e435721e7c7c"
      },
      "source": [
        "%%timeit\r\n",
        "num=2**100\r\n",
        "n_zero=str.count(str(num), \"0\")"
      ],
      "execution_count": null,
      "outputs": [
        {
          "output_type": "stream",
          "text": [
            "The slowest run took 10.45 times longer than the fastest. This could mean that an intermediate result is being cached.\n",
            "1000000 loops, best of 3: 773 ns per loop\n"
          ],
          "name": "stdout"
        }
      ]
    },
    {
      "cell_type": "markdown",
      "metadata": {
        "id": "qTEvznxCj5oX"
      },
      "source": [
        "The builtin solution is 4 times faster than the `for` solution which is 3 times faster than the `while` solution."
      ]
    },
    {
      "cell_type": "markdown",
      "metadata": {
        "id": "hxyNYDfRj5oX"
      },
      "source": [
        "### Other notes"
      ]
    },
    {
      "cell_type": "markdown",
      "metadata": {
        "id": "VocwueEOj5oX"
      },
      "source": [
        "* The `while` solution will not work for `num <= 0`\n",
        "* The `while` solution will not work for non-numerals (e.g, `num = \"Cola 0 is awesome!\"`)\n",
        "* The builtin solution is implemented with C and that is why it is faster"
      ]
    },
    {
      "cell_type": "markdown",
      "metadata": {
        "id": "vXxWaz1Ho5Q9"
      },
      "source": [
        ""
      ]
    },
    {
      "cell_type": "markdown",
      "metadata": {
        "id": "MCfg0w0docIt"
      },
      "source": [
        "# Exercise: Collatz Conjecture\r\n",
        "\r\n",
        "* The [Collatz Conjecture](http://en.wikipedia.org/wiki/Collatz_conjecture) (also known as the *3n+1* conjecture) is the conjecture that the following process is finite for every natural number:\r\n",
        "> If the number $n$ is even divide it by two ($n/2$), if it is odd multiply it by 3 and add 1 ($3n+1$). Repeat this process untill you get the number 1.\r\n",
        "\r\n",
        "\r\n",
        "\r\n"
      ]
    },
    {
      "cell_type": "markdown",
      "metadata": {
        "id": "5koLxNtzoysp"
      },
      "source": [
        "\r\n",
        "## Implementation\r\n",
        "We start with the \"Half Or Triple Plus One\" process:"
      ]
    },
    {
      "cell_type": "markdown",
      "metadata": {
        "id": "OodTPDAZJkJy"
      },
      "source": [
        "note: grammar `for`\r\n",
        "\r\n",
        "`for i in str(\"abc\")`"
      ]
    },
    {
      "cell_type": "code",
      "metadata": {
        "id": "dFAI1hC4pFA1",
        "colab": {
          "base_uri": "https://localhost:8080/"
        },
        "outputId": "38de25b2-63b0-4868-8d32-334e00fb758c"
      },
      "source": [
        "for m in range(1, 100): # range is (inclusive, exclusive)\r\n",
        "  n = m\r\n",
        "  while n > 1:\r\n",
        "    if n % 2 == 0:\r\n",
        "      n = n // 2\r\n",
        "    else:\r\n",
        "      n = n * 3 + 1\r\n",
        "  print(m, \"is ok\")"
      ],
      "execution_count": null,
      "outputs": [
        {
          "output_type": "stream",
          "text": [
            "1 is ok\n",
            "2 is ok\n",
            "3 is ok\n",
            "4 is ok\n",
            "5 is ok\n",
            "6 is ok\n",
            "7 is ok\n",
            "8 is ok\n",
            "9 is ok\n",
            "10 is ok\n",
            "11 is ok\n",
            "12 is ok\n",
            "13 is ok\n",
            "14 is ok\n",
            "15 is ok\n",
            "16 is ok\n",
            "17 is ok\n",
            "18 is ok\n",
            "19 is ok\n",
            "20 is ok\n",
            "21 is ok\n",
            "22 is ok\n",
            "23 is ok\n",
            "24 is ok\n",
            "25 is ok\n",
            "26 is ok\n",
            "27 is ok\n",
            "28 is ok\n",
            "29 is ok\n",
            "30 is ok\n",
            "31 is ok\n",
            "32 is ok\n",
            "33 is ok\n",
            "34 is ok\n",
            "35 is ok\n",
            "36 is ok\n",
            "37 is ok\n",
            "38 is ok\n",
            "39 is ok\n",
            "40 is ok\n",
            "41 is ok\n",
            "42 is ok\n",
            "43 is ok\n",
            "44 is ok\n",
            "45 is ok\n",
            "46 is ok\n",
            "47 is ok\n",
            "48 is ok\n",
            "49 is ok\n",
            "50 is ok\n",
            "51 is ok\n",
            "52 is ok\n",
            "53 is ok\n",
            "54 is ok\n",
            "55 is ok\n",
            "56 is ok\n",
            "57 is ok\n",
            "58 is ok\n",
            "59 is ok\n",
            "60 is ok\n",
            "61 is ok\n",
            "62 is ok\n",
            "63 is ok\n",
            "64 is ok\n",
            "65 is ok\n",
            "66 is ok\n",
            "67 is ok\n",
            "68 is ok\n",
            "69 is ok\n",
            "70 is ok\n",
            "71 is ok\n",
            "72 is ok\n",
            "73 is ok\n",
            "74 is ok\n",
            "75 is ok\n",
            "76 is ok\n",
            "77 is ok\n",
            "78 is ok\n",
            "79 is ok\n",
            "80 is ok\n",
            "81 is ok\n",
            "82 is ok\n",
            "83 is ok\n",
            "84 is ok\n",
            "85 is ok\n",
            "86 is ok\n",
            "87 is ok\n",
            "88 is ok\n",
            "89 is ok\n",
            "90 is ok\n",
            "91 is ok\n",
            "92 is ok\n",
            "93 is ok\n",
            "94 is ok\n",
            "95 is ok\n",
            "96 is ok\n",
            "97 is ok\n",
            "98 is ok\n",
            "99 is ok\n"
          ],
          "name": "stdout"
        }
      ]
    },
    {
      "cell_type": "markdown",
      "metadata": {
        "id": "ezkA6RabpFkc"
      },
      "source": [
        "## Next \r\n",
        "we add another loop that will run the conjecture check on a range of numbers:"
      ]
    },
    {
      "cell_type": "code",
      "metadata": {
        "id": "fnyeKb2ApUDG",
        "colab": {
          "base_uri": "https://localhost:8080/"
        },
        "outputId": "4aeadcff-9c67-4289-cb48-6ca96abbc369"
      },
      "source": [
        "for m in range(2, 100, 2): # that new parameter is the step amount. so this does it on all evens\r\n",
        "  n = m\r\n",
        "  while n > 1:\r\n",
        "    if n % 2 == 0:\r\n",
        "      n = n // 2\r\n",
        "    else:\r\n",
        "      n = n * 3 + 1\r\n",
        "  print(m, \"is ok\")"
      ],
      "execution_count": null,
      "outputs": [
        {
          "output_type": "stream",
          "text": [
            "2 is ok\n",
            "4 is ok\n",
            "6 is ok\n",
            "8 is ok\n",
            "10 is ok\n",
            "12 is ok\n",
            "14 is ok\n",
            "16 is ok\n",
            "18 is ok\n",
            "20 is ok\n",
            "22 is ok\n",
            "24 is ok\n",
            "26 is ok\n",
            "28 is ok\n",
            "30 is ok\n",
            "32 is ok\n",
            "34 is ok\n",
            "36 is ok\n",
            "38 is ok\n",
            "40 is ok\n",
            "42 is ok\n",
            "44 is ok\n",
            "46 is ok\n",
            "48 is ok\n",
            "50 is ok\n",
            "52 is ok\n",
            "54 is ok\n",
            "56 is ok\n",
            "58 is ok\n",
            "60 is ok\n",
            "62 is ok\n",
            "64 is ok\n",
            "66 is ok\n",
            "68 is ok\n",
            "70 is ok\n",
            "72 is ok\n",
            "74 is ok\n",
            "76 is ok\n",
            "78 is ok\n",
            "80 is ok\n",
            "82 is ok\n",
            "84 is ok\n",
            "86 is ok\n",
            "88 is ok\n",
            "90 is ok\n",
            "92 is ok\n",
            "94 is ok\n",
            "96 is ok\n",
            "98 is ok\n"
          ],
          "name": "stdout"
        }
      ]
    },
    {
      "cell_type": "markdown",
      "metadata": {
        "id": "FtdmIjWYpTus"
      },
      "source": [
        "`range` is a good friend with `for` loop"
      ]
    },
    {
      "cell_type": "code",
      "metadata": {
        "id": "bg2OZhrlpF8R"
      },
      "source": [
        ""
      ],
      "execution_count": null,
      "outputs": []
    },
    {
      "cell_type": "code",
      "metadata": {
        "colab": {
          "base_uri": "https://localhost:8080/"
        },
        "id": "zTBG4CfVXybt",
        "outputId": "667a99fb-1c5f-4a91-9a6d-7961020dfd6a"
      },
      "source": [
        "say = 'I find that the harder I work, the more luck I seem to have.'\r\n",
        "len(say.split(\"the\"))"
      ],
      "execution_count": null,
      "outputs": [
        {
          "output_type": "execute_result",
          "data": {
            "text/plain": [
              "3"
            ]
          },
          "metadata": {
            "tags": []
          },
          "execution_count": 5
        }
      ]
    },
    {
      "cell_type": "markdown",
      "metadata": {
        "id": "RPdi26IFqQC5"
      },
      "source": [
        "# Lists\r\n",
        "\r\n",
        "* Lists are sequences of values. \r\n",
        "* Lists can contain a mix of types:"
      ]
    },
    {
      "cell_type": "code",
      "metadata": {
        "id": "-ieTVEp4qVNS",
        "colab": {
          "base_uri": "https://localhost:8080/"
        },
        "outputId": "1acdbd08-f1b8-4c98-ae7e-5d5b39b04cba"
      },
      "source": [
        "# python does not have internal support for array. they are trying to make it simple \r\n",
        "mixed_list=[]\r\n",
        "print(mixed_list) # this is an empty list\r\n",
        "mixed_list=[3, 5.2, \"Hello world\", True, [1,2.3]] # works, because it's kinda like a void* linkedlist in c, with\r\n",
        "                                                  # pointers to the next node and the void* value\r\n",
        "print(mixed_list)"
      ],
      "execution_count": null,
      "outputs": [
        {
          "output_type": "stream",
          "text": [
            "[]\n",
            "[3, 5.2, 'Hello world', True, [1, 2.3]]\n"
          ],
          "name": "stdout"
        }
      ]
    },
    {
      "cell_type": "markdown",
      "metadata": {
        "id": "4U-ExGS7qYrd"
      },
      "source": [
        "Lists are indexable, starting at 0:"
      ]
    },
    {
      "cell_type": "code",
      "metadata": {
        "id": "y4CcgU08qZX9",
        "colab": {
          "base_uri": "https://localhost:8080/"
        },
        "outputId": "2dd0bc2f-af06-444b-d007-2ad081dd66e6"
      },
      "source": [
        "print(mixed_list[1]) #prints 5.2. 0-base counting. indexed like arrays in java/c"
      ],
      "execution_count": null,
      "outputs": [
        {
          "output_type": "execute_result",
          "data": {
            "text/plain": [
              "5.2"
            ]
          },
          "metadata": {
            "tags": []
          },
          "execution_count": 10
        }
      ]
    },
    {
      "cell_type": "markdown",
      "metadata": {
        "id": "9HOG6m5Pqe51"
      },
      "source": [
        "Negative indices are counted from the tail:"
      ]
    },
    {
      "cell_type": "code",
      "metadata": {
        "id": "JvrWn7Qqqfxm",
        "colab": {
          "base_uri": "https://localhost:8080/"
        },
        "outputId": "f66a7b60-6f9b-4296-e6db-519b5e7eaf04"
      },
      "source": [
        "# 0 is the beginning, so -1 is the end of the list, -2 is second from last, etc.\r\n",
        "print(mixed_list[-2]) # prints True "
      ],
      "execution_count": null,
      "outputs": [
        {
          "output_type": "stream",
          "text": [
            "True\n"
          ],
          "name": "stdout"
        }
      ]
    },
    {
      "cell_type": "code",
      "metadata": {
        "id": "4JZ71Xh5qjpV"
      },
      "source": [
        ""
      ],
      "execution_count": null,
      "outputs": []
    },
    {
      "cell_type": "markdown",
      "metadata": {
        "id": "_WhqBEUJqkMf"
      },
      "source": [
        "Lists can be sliced:"
      ]
    },
    {
      "cell_type": "code",
      "metadata": {
        "id": "vqi-LmUoqnn6",
        "colab": {
          "base_uri": "https://localhost:8080/"
        },
        "outputId": "9be0c5ed-4990-4d14-b8d9-0211c1889552"
      },
      "source": [
        "mixed_list=[3, 5.2, \"Hello world\", True, [1,2.3], range]\r\n",
        "mixed_list[1:2] # again, left inclusive, right exclusive. thus this is just 1 element, which is 5.2 "
      ],
      "execution_count": null,
      "outputs": [
        {
          "output_type": "execute_result",
          "data": {
            "text/plain": [
              "[5.2]"
            ]
          },
          "metadata": {
            "tags": []
          },
          "execution_count": 15
        }
      ]
    },
    {
      "cell_type": "code",
      "metadata": {
        "id": "Un21Eqp1qn3r",
        "colab": {
          "base_uri": "https://localhost:8080/"
        },
        "outputId": "915e2a6e-fd58-4ecb-d5dd-b91467ca43f0"
      },
      "source": [
        "mixed_list[1:4] # extracts 1, 2, 3 elements"
      ],
      "execution_count": null,
      "outputs": [
        {
          "output_type": "execute_result",
          "data": {
            "text/plain": [
              "[5.2, 'Hello world', True]"
            ]
          },
          "metadata": {
            "tags": []
          },
          "execution_count": 16
        }
      ]
    },
    {
      "cell_type": "code",
      "metadata": {
        "id": "HRCnZkBBqq5d",
        "colab": {
          "base_uri": "https://localhost:8080/"
        },
        "outputId": "64048a77-812f-4b75-bf11-b2ab11ee81e7"
      },
      "source": [
        "mixed_list[-5:-2]"
      ],
      "execution_count": null,
      "outputs": [
        {
          "output_type": "execute_result",
          "data": {
            "text/plain": [
              "[5.2, 'Hello world', True]"
            ]
          },
          "metadata": {
            "tags": []
          },
          "execution_count": 18
        }
      ]
    },
    {
      "cell_type": "code",
      "metadata": {
        "id": "UqluQKXbqrEL",
        "colab": {
          "base_uri": "https://localhost:8080/"
        },
        "outputId": "2e5032c1-075b-44d8-8bf3-f80e970b209d"
      },
      "source": [
        "mixed_list[-2:-5] \r\n",
        "mixed_list[4:1] \r\n",
        "# both won't work bc it will only read from left to right"
      ],
      "execution_count": null,
      "outputs": [
        {
          "output_type": "execute_result",
          "data": {
            "text/plain": [
              "[]"
            ]
          },
          "metadata": {
            "tags": []
          },
          "execution_count": 21
        }
      ]
    },
    {
      "cell_type": "code",
      "metadata": {
        "id": "ysrOz-yZqrPh"
      },
      "source": [
        "mixed_list[:2] #default beginning of 0"
      ],
      "execution_count": null,
      "outputs": []
    },
    {
      "cell_type": "code",
      "metadata": {
        "id": "nH6SePjvqrZN",
        "colab": {
          "base_uri": "https://localhost:8080/"
        },
        "outputId": "540a5a0e-969a-4266-922d-8c4924106baa"
      },
      "source": [
        "mixed_list[:-2] #default beginning of -6"
      ],
      "execution_count": null,
      "outputs": [
        {
          "output_type": "execute_result",
          "data": {
            "text/plain": [
              "[3, 5.2, 'Hello world', True]"
            ]
          },
          "metadata": {
            "tags": []
          },
          "execution_count": 22
        }
      ]
    },
    {
      "cell_type": "code",
      "metadata": {
        "id": "F45wqAJQqrkP",
        "colab": {
          "base_uri": "https://localhost:8080/",
          "height": 174
        },
        "outputId": "9c70e4f8-7eff-4eb3-f39c-682b62d960c5"
      },
      "source": [
        "mixed_list[10] #this gives error for index out of range"
      ],
      "execution_count": null,
      "outputs": [
        {
          "output_type": "error",
          "ename": "IndexError",
          "evalue": "ignored",
          "traceback": [
            "\u001b[0;31m---------------------------------------------------------------------------\u001b[0m",
            "\u001b[0;31mIndexError\u001b[0m                                Traceback (most recent call last)",
            "\u001b[0;32m<ipython-input-23-294253b51f49>\u001b[0m in \u001b[0;36m<module>\u001b[0;34m()\u001b[0m\n\u001b[0;32m----> 1\u001b[0;31m \u001b[0mmixed_list\u001b[0m\u001b[0;34m[\u001b[0m\u001b[0;36m10\u001b[0m\u001b[0;34m]\u001b[0m \u001b[0;31m#this gives error\u001b[0m\u001b[0;34m\u001b[0m\u001b[0;34m\u001b[0m\u001b[0m\n\u001b[0m",
            "\u001b[0;31mIndexError\u001b[0m: list index out of range"
          ]
        }
      ]
    },
    {
      "cell_type": "markdown",
      "metadata": {
        "id": "qK9-Knc2qsPO"
      },
      "source": [
        "Lists can be concatenated"
      ]
    },
    {
      "cell_type": "code",
      "metadata": {
        "id": "nJPkR5w9quyy",
        "colab": {
          "base_uri": "https://localhost:8080/"
        },
        "outputId": "8b5edc74-37aa-4aee-f240-75fc69f333d2"
      },
      "source": [
        "print(mixed_list + [1, 2]) \r\n",
        "print(mixed_list) # if you want to save the above list, have to assign it to a new list. "
      ],
      "execution_count": null,
      "outputs": [
        {
          "output_type": "stream",
          "text": [
            "[3, 5.2, 'Hello world', True, [1, 2.3], <class 'range'>]\n"
          ],
          "name": "stdout"
        }
      ]
    },
    {
      "cell_type": "code",
      "metadata": {
        "id": "pDe2fkwhqu_y"
      },
      "source": [
        ""
      ],
      "execution_count": null,
      "outputs": []
    },
    {
      "cell_type": "code",
      "metadata": {
        "id": "yz0GgcClqvLC"
      },
      "source": [
        ""
      ],
      "execution_count": null,
      "outputs": []
    },
    {
      "cell_type": "markdown",
      "metadata": {
        "id": "YHwvz1Nqq0HL"
      },
      "source": [
        "Lists have a rich set of functions"
      ]
    },
    {
      "cell_type": "code",
      "metadata": {
        "id": "SHM646hPrLmE",
        "colab": {
          "base_uri": "https://localhost:8080/"
        },
        "outputId": "722e257e-8e50-4e59-c04f-0f4e5370553d"
      },
      "source": [
        "x=[1,2,4,3,5]\r\n",
        "x"
      ],
      "execution_count": null,
      "outputs": [
        {
          "output_type": "execute_result",
          "data": {
            "text/plain": [
              "[1, 2, 4, 3, 5]"
            ]
          },
          "metadata": {
            "tags": []
          },
          "execution_count": 37
        }
      ]
    },
    {
      "cell_type": "code",
      "metadata": {
        "id": "HzXYhz1trLw7",
        "colab": {
          "base_uri": "https://localhost:8080/"
        },
        "outputId": "0ef40c0e-b141-495a-dc13-6eb8769ba208"
      },
      "source": [
        "print(sum(x)) # 15; just sums all of em\r\n",
        "# x=[1,2,3,4,5, \"6\"]\r\n",
        "# print(sum(x)) # gives an error. only works if type matches"
      ],
      "execution_count": null,
      "outputs": [
        {
          "output_type": "stream",
          "text": [
            "15\n"
          ],
          "name": "stdout"
        }
      ]
    },
    {
      "cell_type": "code",
      "metadata": {
        "id": "5QSZmSlyrL6S",
        "colab": {
          "base_uri": "https://localhost:8080/"
        },
        "outputId": "365ac8c0-0244-4814-d996-40a5c7619ea5"
      },
      "source": [
        "len(x)"
      ],
      "execution_count": null,
      "outputs": [
        {
          "output_type": "execute_result",
          "data": {
            "text/plain": [
              "5"
            ]
          },
          "metadata": {
            "tags": []
          },
          "execution_count": 35
        }
      ]
    },
    {
      "cell_type": "code",
      "metadata": {
        "colab": {
          "base_uri": "https://localhost:8080/"
        },
        "id": "Swx2c_92RUhf",
        "outputId": "53d9febc-8d5d-4226-845b-5be61acdc47c"
      },
      "source": [
        "sorted(x)"
      ],
      "execution_count": null,
      "outputs": [
        {
          "output_type": "execute_result",
          "data": {
            "text/plain": [
              "[1, 2, 3, 4, 5]"
            ]
          },
          "metadata": {
            "tags": []
          },
          "execution_count": 38
        }
      ]
    },
    {
      "cell_type": "markdown",
      "metadata": {
        "id": "yAT9g6VErMNG"
      },
      "source": [
        "Lists are iterable"
      ]
    },
    {
      "cell_type": "code",
      "metadata": {
        "id": "cRIGGJ8srOLj",
        "colab": {
          "base_uri": "https://localhost:8080/"
        },
        "outputId": "e210005f-2183-4d91-f280-3d7a8b2fc1ff"
      },
      "source": [
        "mixed_list=[3, 5.2, \"Hello world\", True, [1,2.3], range]\r\n",
        "mixed_list"
      ],
      "execution_count": null,
      "outputs": [
        {
          "output_type": "execute_result",
          "data": {
            "text/plain": [
              "[3, 5.2, 'Hello world', True, [1, 2.3], range]"
            ]
          },
          "metadata": {
            "tags": []
          },
          "execution_count": 39
        }
      ]
    },
    {
      "cell_type": "code",
      "metadata": {
        "id": "kr1-uIKzrOZ0",
        "colab": {
          "base_uri": "https://localhost:8080/"
        },
        "outputId": "82e5e29a-7c42-477b-e7f1-9908defdc285"
      },
      "source": [
        "for ele in mixed_list:\r\n",
        "  if type(ele) == list:\r\n",
        "    print(ele)"
      ],
      "execution_count": null,
      "outputs": [
        {
          "output_type": "stream",
          "text": [
            "[1, 2.3]\n"
          ],
          "name": "stdout"
        }
      ]
    },
    {
      "cell_type": "code",
      "metadata": {
        "id": "F-yzEbLmrSjH"
      },
      "source": [
        ""
      ],
      "execution_count": null,
      "outputs": []
    },
    {
      "cell_type": "code",
      "metadata": {
        "id": "Ucd2tynJr25w"
      },
      "source": [
        ""
      ],
      "execution_count": null,
      "outputs": []
    },
    {
      "cell_type": "code",
      "metadata": {
        "id": "JmC_xu_lrSsR"
      },
      "source": [
        ""
      ],
      "execution_count": null,
      "outputs": []
    },
    {
      "cell_type": "code",
      "metadata": {
        "id": "1Njn9EYHrS1G"
      },
      "source": [
        ""
      ],
      "execution_count": null,
      "outputs": []
    },
    {
      "cell_type": "code",
      "metadata": {
        "id": "iUOoiN0-rS9P"
      },
      "source": [
        ""
      ],
      "execution_count": null,
      "outputs": []
    },
    {
      "cell_type": "markdown",
      "metadata": {
        "id": "ti7qxChirTh_"
      },
      "source": [
        "**NEW**\r\n",
        "###A list of numbers can be created using list comprehension. The syntax is:\r\n",
        "\r\n",
        "[**expression** for **variable** in **iterable** if **condition**] \r\n",
        "\r\n",
        "The if **condition** part is optional, the statement and the condition can use variable.\r\n",
        "\r\n",
        "Example: Create a list of the squares of numbers between 1 and 10:"
      ]
    },
    {
      "cell_type": "code",
      "metadata": {
        "id": "JYmPK0SErjGv",
        "colab": {
          "base_uri": "https://localhost:8080/"
        },
        "outputId": "a08b3605-8243-4d9a-f44c-d71cf2cc2546"
      },
      "source": [
        "print([ number**2 for number in range (1,11) ]) #\r\n",
        "print([ number**2 for number in range (1,11) if number%2==0 ])"
      ],
      "execution_count": null,
      "outputs": [
        {
          "output_type": "stream",
          "text": [
            "[1, 4, 9, 16, 25, 36, 49, 64, 81, 100]\n",
            "[4, 16, 36, 64, 100]\n"
          ],
          "name": "stdout"
        }
      ]
    },
    {
      "cell_type": "code",
      "metadata": {
        "id": "OgxYGFw9WDyU"
      },
      "source": [
        "lst=[]\r\n",
        "for number in range(1,11):\r\n",
        "  lst=lst+[num**2]"
      ],
      "execution_count": null,
      "outputs": []
    },
    {
      "cell_type": "markdown",
      "metadata": {
        "id": "QTLK86D-rpBT"
      },
      "source": [
        "Try: Create a list of the square roots of odd numbers between 1 and 20:"
      ]
    },
    {
      "cell_type": "code",
      "metadata": {
        "id": "HKTcAo2CrspV",
        "colab": {
          "base_uri": "https://localhost:8080/"
        },
        "outputId": "c68909c1-7287-4964-bab8-078acd253e34"
      },
      "source": [
        "[number**.5 for number in range (1,21) if number%2!=1]"
      ],
      "execution_count": null,
      "outputs": [
        {
          "output_type": "execute_result",
          "data": {
            "text/plain": [
              "[1.4142135623730951,\n",
              " 2.0,\n",
              " 2.449489742783178,\n",
              " 2.8284271247461903,\n",
              " 3.1622776601683795,\n",
              " 3.4641016151377544,\n",
              " 3.7416573867739413,\n",
              " 4.0,\n",
              " 4.242640687119285,\n",
              " 4.47213595499958]"
            ]
          },
          "metadata": {
            "tags": []
          },
          "execution_count": 57
        }
      ]
    },
    {
      "cell_type": "markdown",
      "metadata": {
        "id": "RgbYW6jzuCTE"
      },
      "source": [
        "#Exericse:  Grades problem\r\n",
        "\r\n",
        "Given a list of grades, count how many are above the average."
      ]
    },
    {
      "cell_type": "code",
      "metadata": {
        "id": "54fWPS5SuLdK"
      },
      "source": [
        "grades = [33, 55,45,87,88,95,34,76,87,56,45,98,87,89,45,67,45,67,76,73,33,87,12,100,77,89,92]"
      ],
      "execution_count": null,
      "outputs": []
    },
    {
      "cell_type": "markdown",
      "metadata": {
        "id": "wPu1gIlKuWE5"
      },
      "source": [
        "Use `for` loop\r\n"
      ]
    },
    {
      "cell_type": "code",
      "metadata": {
        "id": "zoZ_elC6uPT2",
        "colab": {
          "base_uri": "https://localhost:8080/"
        },
        "outputId": "53ec9803-a948-4238-ac92-a130243ab2c8"
      },
      "source": [
        "avg = sum(grades) / len(grades)\r\n",
        "print(avg)\r\n",
        "count = 0\r\n",
        "for grade in grades:\r\n",
        "  if grade >= avg:\r\n",
        "    count = count + 1\r\n",
        "print(count)"
      ],
      "execution_count": null,
      "outputs": [
        {
          "output_type": "stream",
          "text": [
            "68.07407407407408\n",
            "15\n"
          ],
          "name": "stdout"
        }
      ]
    },
    {
      "cell_type": "markdown",
      "metadata": {
        "id": "DWhBZpr4uY05"
      },
      "source": [
        "How about trying **list comprehension**?"
      ]
    },
    {
      "cell_type": "code",
      "metadata": {
        "id": "OMOLlPthudQ8",
        "colab": {
          "base_uri": "https://localhost:8080/"
        },
        "outputId": "5a8bccec-d404-4fc2-9243-72622547f6e2"
      },
      "source": [
        "avg = sum(grades) / len(grades)\r\n",
        "print(avg)\r\n",
        "count = [grade for grade in grades if grade>=avg]\r\n",
        "print(len(count))"
      ],
      "execution_count": null,
      "outputs": [
        {
          "output_type": "stream",
          "text": [
            "68.07407407407408\n",
            "15\n"
          ],
          "name": "stdout"
        }
      ]
    },
    {
      "cell_type": "markdown",
      "metadata": {
        "id": "rMxHoOIUujnX"
      },
      "source": [
        "#Functions!\r\n",
        "## extremly simple syntax\r\n",
        "`def func_name(list of params):`\r\n",
        "  "
      ]
    },
    {
      "cell_type": "code",
      "metadata": {
        "id": "lawJmiWCvBEU"
      },
      "source": [
        "def empty_func():\r\n",
        "  pass"
      ],
      "execution_count": null,
      "outputs": []
    },
    {
      "cell_type": "code",
      "metadata": {
        "id": "UxH8csHsvBQ9",
        "colab": {
          "base_uri": "https://localhost:8080/"
        },
        "outputId": "ade6848f-ebea-4e0c-9fb3-0838c9b1aed9"
      },
      "source": [
        "def max2(a, b):\r\n",
        "  if a >= b:\r\n",
        "    return a\r\n",
        "  else:\r\n",
        "    return b\r\n",
        "\r\n",
        "def min2(a, b):\r\n",
        "  if a <= b:\r\n",
        "    return a\r\n",
        "  else:\r\n",
        "    return b\r\n",
        "\r\n",
        "def max3v1(a,b,c):\r\n",
        "  if a >=b and a>=c:\r\n",
        "    return a\r\n",
        "  elif b>=a and b>=c:\r\n",
        "    return b\r\n",
        "  else:\r\n",
        "    return c\r\n",
        "\r\n",
        "def max3v2(a,b,c):\r\n",
        "  max_ab = max2(a,b)\r\n",
        "  return max2(max_ab,c)\r\n",
        "  \r\n",
        "print(max3v2(10.2,12,8))"
      ],
      "execution_count": null,
      "outputs": [
        {
          "output_type": "stream",
          "text": [
            "12\n"
          ],
          "name": "stdout"
        }
      ]
    },
    {
      "cell_type": "code",
      "metadata": {
        "id": "Kz0g-L-bvBbQ",
        "colab": {
          "base_uri": "https://localhost:8080/"
        },
        "outputId": "a64d48ab-02c3-405f-f39f-94a726e40e87"
      },
      "source": [
        "%timeit max3v1(100,4,15)\r\n",
        "%timeit max3v1(4,15,100)\r\n",
        "%timeit max3v2(100,4,15)\r\n",
        "%timeit max3v2(4,15,100)"
      ],
      "execution_count": null,
      "outputs": [
        {
          "output_type": "stream",
          "text": [
            "The slowest run took 13.58 times longer than the fastest. This could mean that an intermediate result is being cached.\n",
            "10000000 loops, best of 3: 119 ns per loop\n",
            "The slowest run took 8.83 times longer than the fastest. This could mean that an intermediate result is being cached.\n",
            "10000000 loops, best of 3: 139 ns per loop\n",
            "The slowest run took 6.53 times longer than the fastest. This could mean that an intermediate result is being cached.\n",
            "1000000 loops, best of 3: 282 ns per loop\n",
            "The slowest run took 5.90 times longer than the fastest. This could mean that an intermediate result is being cached.\n",
            "1000000 loops, best of 3: 278 ns per loop\n"
          ],
          "name": "stdout"
        }
      ]
    },
    {
      "cell_type": "markdown",
      "metadata": {
        "id": "67alNWfb3ZJA"
      },
      "source": [
        "#Exercise: Implement `convert_base` function"
      ]
    },
    {
      "cell_type": "markdown",
      "metadata": {
        "id": "DpUTnKYp4b0G"
      },
      "source": [
        "##The binary system and base conversions\r\n",
        "\r\n",
        "A binary number is a number in the base 2, which means that it only uses 2 digits - 0 and 1.\r\n",
        "The \"regular\" numbers we use, the decimal numbers, are in base 10, which means they use 10 digits - 0,1,2,3,4,5,6,7,8,9.\r\n",
        "\r\n",
        "What is a base? To understand base X, imagine you have X fingers instead of 10. **How would you count with X fingers?**\r\n",
        "\r\n",
        "### Converting binary to decimal\r\n",
        "\r\n",
        "Looking at a binary number, 10011010, the **Least Significant Digit** (or **bit** for binary digits), in this case 0, is  the right most digit, and if it is 1 then it is worth $2^0=1$, otherwise it is worth 0. The next bit (in this case 1) is worth $2^1=2$. The next one is worth $2^2=4$, and the *k*-th digit/bit from the right (starting with *k=0*) is worth $2^k$. In general, denoting the binary number $x_{base 2} = a_n a_{n-} ... a_1 a_0$, it's decimal value can be evaluated by\r\n",
        "$$\r\n",
        "x_{base 10} = \\sum_{n \\ge k \\ge 0} a_k 2^k\r\n",
        "$$\r\n",
        "\r\n",
        "Let's write python code for this:"
      ]
    },
    {
      "cell_type": "code",
      "metadata": {
        "id": "cSsjA0od46Ve",
        "colab": {
          "base_uri": "https://localhost:8080/"
        },
        "outputId": "3fb64221-419b-49fe-ed3a-c1cc3b758c18"
      },
      "source": [
        "x_bin=\"10011010\"\r\n",
        "x_dec=0\r\n",
        "len=len(x_bin)\r\n",
        "counter=0\r\n",
        "for item in x_bin:\r\n",
        "  counter = counter + 1\r\n",
        "  if item == \"1\":\r\n",
        "    x_dec = x_dec + (2**(len-counter))\r\n",
        "print(x_dec)"
      ],
      "execution_count": null,
      "outputs": [
        {
          "output_type": "stream",
          "text": [
            "154\n"
          ],
          "name": "stdout"
        }
      ]
    },
    {
      "cell_type": "markdown",
      "metadata": {
        "id": "8NQNfz7H5AXU"
      },
      "source": [
        "### Converting decimal to binary\r\n",
        "Converting from decimal to binary is done by integer division. Remember that taking the modulo 10 of a number gives the LSD in base 10, and diving by 10 removes the LSD. This is the basic idea:\r\n",
        "\r\n",
        "\r\n"
      ]
    },
    {
      "cell_type": "code",
      "metadata": {
        "id": "rX5giyf557P3"
      },
      "source": [
        ""
      ],
      "execution_count": null,
      "outputs": []
    },
    {
      "cell_type": "markdown",
      "metadata": {
        "id": "W4fweFNd5_M7"
      },
      "source": [
        "### Actually...python has bult-in support for some power-of-two base conversion -__-!\r\n"
      ]
    },
    {
      "cell_type": "code",
      "metadata": {
        "id": "G3-i_WpE57dK"
      },
      "source": [
        ""
      ],
      "execution_count": null,
      "outputs": []
    },
    {
      "cell_type": "code",
      "metadata": {
        "id": "4OXzsZcG57p2"
      },
      "source": [
        ""
      ],
      "execution_count": null,
      "outputs": []
    },
    {
      "cell_type": "code",
      "metadata": {
        "id": "qstabZ5y5-d1"
      },
      "source": [
        ""
      ],
      "execution_count": null,
      "outputs": []
    },
    {
      "cell_type": "code",
      "metadata": {
        "id": "A6K33Nbj5-ne"
      },
      "source": [
        ""
      ],
      "execution_count": null,
      "outputs": []
    },
    {
      "cell_type": "markdown",
      "metadata": {
        "id": "aJtnIW906QD9"
      },
      "source": [
        "###But we want to do a conversion from base-10 to any arbitrary base  \r\n",
        "> We want to convert from base 10 to base b $(2 \\le b < 10)\\;$ :"
      ]
    },
    {
      "cell_type": "code",
      "metadata": {
        "id": "5wqNwA7b8Z40"
      },
      "source": [
        ""
      ],
      "execution_count": null,
      "outputs": []
    },
    {
      "cell_type": "code",
      "metadata": {
        "id": "pe_0CFq683zv"
      },
      "source": [
        ""
      ],
      "execution_count": null,
      "outputs": []
    },
    {
      "cell_type": "code",
      "metadata": {
        "id": "Sk-T_DTd83_2"
      },
      "source": [
        ""
      ],
      "execution_count": null,
      "outputs": []
    },
    {
      "cell_type": "code",
      "metadata": {
        "id": "gPNNjxOK84N5"
      },
      "source": [
        ""
      ],
      "execution_count": null,
      "outputs": []
    },
    {
      "cell_type": "markdown",
      "metadata": {
        "id": "L-ie8AVx9P-p"
      },
      "source": [
        "### and now to base b for $10 < b \\le 36\\;$ :"
      ]
    },
    {
      "cell_type": "code",
      "metadata": {
        "id": "Tic59Nx_84jJ"
      },
      "source": [
        ""
      ],
      "execution_count": null,
      "outputs": []
    },
    {
      "cell_type": "code",
      "metadata": {
        "id": "eONTKYRC9V8f"
      },
      "source": [
        ""
      ],
      "execution_count": null,
      "outputs": []
    },
    {
      "cell_type": "code",
      "metadata": {
        "id": "6hrsO3vm9WFz"
      },
      "source": [
        ""
      ],
      "execution_count": null,
      "outputs": []
    },
    {
      "cell_type": "code",
      "metadata": {
        "id": "srjoNAQF9WP-"
      },
      "source": [
        ""
      ],
      "execution_count": null,
      "outputs": []
    },
    {
      "cell_type": "code",
      "metadata": {
        "id": "o8K1403z84uk"
      },
      "source": [
        ""
      ],
      "execution_count": null,
      "outputs": []
    },
    {
      "cell_type": "code",
      "metadata": {
        "id": "mhJg23L3843w"
      },
      "source": [
        ""
      ],
      "execution_count": null,
      "outputs": []
    }
  ]
}